{
 "cells": [
  {
   "cell_type": "code",
   "execution_count": 1,
   "id": "placed-graph",
   "metadata": {},
   "outputs": [],
   "source": [
    "from IPython.core.interactiveshell import InteractiveShell\n",
    "InteractiveShell.ast_node_interactivity = \"last\"\n",
    "\n",
    "import argparse\n",
    "from ddpg_torch.ddpg_torch import Agent\n",
    "import gym\n",
    "import numpy as np\n",
    "from lifting_rl.linkage_env import LinkageEnv\n",
    "\n",
    "from livelossplot import PlotLosses"
   ]
  },
  {
   "cell_type": "code",
   "execution_count": 2,
   "id": "governing-approach",
   "metadata": {},
   "outputs": [],
   "source": [
    "params = {\n",
    "    \"N_LINKS\": 1,\n",
    "    \"GOAL_POS\": np.array([np.pi / 4, 0], dtype=np.float32),\n",
    "    \"INIT_STATE\": np.array([np.pi / 4, 0], dtype=np.float32),\n",
    "    \"PARAM_VALS\": np.array([9.81, 0.4, 1], dtype=np.float32),\n",
    "    \"OBS_LOW\": np.array([-np.pi, -8 * np.pi], dtype=np.float32),\n",
    "    \"OBS_HIGH\": np.array(\n",
    "        [np.pi, 8 * np.pi], dtype=np.float32\n",
    "    ),\n",
    "    \"ACT_LOW\": -30,\n",
    "    \"ACT_HIGH\": 30,\n",
    "    \"TIME_STEP\": 0.01,\n",
    "    \"VIDEO_FPS\": 30,\n",
    "}\n"
   ]
  },
  {
   "cell_type": "code",
   "execution_count": 3,
   "id": "impressed-specialist",
   "metadata": {},
   "outputs": [],
   "source": [
    "angles_file = \"/home/mans/git/human-body-model-dynamics/data/skeleton_angles.csv\""
   ]
  },
  {
   "cell_type": "code",
   "execution_count": 4,
   "id": "later-subdivision",
   "metadata": {},
   "outputs": [
    {
     "name": "stdout",
     "output_type": "stream",
     "text": [
      "observation_space:  Box(2,)\n",
      "action_space:  Box(1,)\n"
     ]
    }
   ],
   "source": [
    "env = LinkageEnv(angles_file, params, verbose=0)"
   ]
  },
  {
   "cell_type": "code",
   "execution_count": 5,
   "id": "powerful-security",
   "metadata": {},
   "outputs": [],
   "source": [
    "agent = Agent(\n",
    "    lr_actor=0.000025,\n",
    "    lr_critic=0.00025,\n",
    "    input_dims=[2],\n",
    "    tau=0.001,\n",
    "    env=env,\n",
    "    batch_size=64,\n",
    "    layer1_size=400,\n",
    "    layer2_size=300,\n",
    "    n_actions=1,\n",
    ")"
   ]
  },
  {
   "cell_type": "code",
   "execution_count": 6,
   "id": "raised-vulnerability",
   "metadata": {},
   "outputs": [],
   "source": [
    "np.random.seed(0)"
   ]
  },
  {
   "cell_type": "code",
   "execution_count": 7,
   "id": "dedicated-jumping",
   "metadata": {},
   "outputs": [],
   "source": [
    "liveloss = PlotLosses()"
   ]
  },
  {
   "cell_type": "code",
   "execution_count": 8,
   "id": "furnished-rwanda",
   "metadata": {},
   "outputs": [],
   "source": [
    "score_history = []"
   ]
  },
  {
   "cell_type": "code",
   "execution_count": null,
   "id": "varying-requirement",
   "metadata": {},
   "outputs": [
    {
     "data": {
      "image/png": "[encoded data removed]",
      "text/plain": [
       "<Figure size 864x576 with 2 Axes>"
      ]
     },
     "metadata": {
      "needs_background": "light"
     },
     "output_type": "display_data"
    },
    {
     "name": "stdout",
     "output_type": "stream",
     "text": [
      "score_history\n",
      "\tscore_history    \t (min:   -7.008, max:    0.030, cur:   -3.276)\n",
      "episode 288 score 5.56 100 game average -3.28\n"
     ]
    }
   ],
   "source": [
    "for i in range(100000):\n",
    "    done = False\n",
    "    score = 0\n",
    "    obs = env.reset()\n",
    "    agent.noise.reset()\n",
    "    while not done:\n",
    "        env.render()\n",
    "        act = agent.choose_action(obs)\n",
    "        new_state, reward, done, info = env.step(act)\n",
    "        agent.remember(obs, act, reward, new_state, int(done))\n",
    "        agent.learn()\n",
    "        score += reward\n",
    "        obs = new_state\n",
    "\n",
    "    score_history.append(score)\n",
    "\n",
    "    metrics = {\"score_history\": np.mean(score_history[-100:])}\n",
    "    liveloss.update(metrics)\n",
    "    liveloss.send()\n",
    "    print(\n",
    "        \"episode\",\n",
    "        i,\n",
    "        \"score %.2f\" % score,\n",
    "        \"100 game average %.2f\" % np.mean(score_history[-100:]),\n",
    "    )\n",
    "env.close()"
   ]
  },
  {
   "cell_type": "code",
   "execution_count": null,
   "id": "focal-intellectual",
   "metadata": {},
   "outputs": [],
   "source": []
  },
  {
   "cell_type": "code",
   "execution_count": null,
   "id": "criminal-federal",
   "metadata": {},
   "outputs": [],
   "source": []
  }
 ],
 "metadata": {
  "kernelspec": {
   "display_name": "Python 3",
   "language": "python",
   "name": "python3"
  },
  "language_info": {
   "codemirror_mode": {
    "name": "ipython",
    "version": 3
   },
   "file_extension": ".py",
   "mimetype": "text/x-python",
   "name": "python",
   "nbconvert_exporter": "python",
   "pygments_lexer": "ipython3",
   "version": "3.7.6"
  }
 },
 "nbformat": 4,
 "nbformat_minor": 5
}
