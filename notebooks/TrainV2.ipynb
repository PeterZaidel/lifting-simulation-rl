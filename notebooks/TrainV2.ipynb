{
 "cells": [
  {
   "cell_type": "code",
   "execution_count": null,
   "id": "placed-graph",
   "metadata": {},
   "outputs": [],
   "source": [
    "from IPython.core.interactiveshell import InteractiveShell\n",
    "InteractiveShell.ast_node_interactivity = \"last\"\n",
    "\n",
    "import argparse\n",
    "from ddpg_torch.ddpg_torch import Agent\n",
    "import gym\n",
    "import numpy as np\n",
    "from lifting_rl.linkage_env import LinkageEnv\n",
    "\n",
    "from livelossplot import PlotLosses"
   ]
  },
  {
   "cell_type": "code",
   "execution_count": null,
   "id": "governing-approach",
   "metadata": {},
   "outputs": [],
   "source": [
    "params = {\n",
    "    \"N_LINKS\": 2,\n",
    "    \"GOAL_POS\": np.array([np.pi / 4, np.pi / 4, 0, 0], dtype=np.float32),\n",
    "    \"INIT_STATE\": np.array([np.pi / 4, np.pi / 4, 0, 0], dtype=np.float32),\n",
    "    \"PARAM_VALS\": np.array([9.81, 0.4, 1, 0.4, 1], dtype=np.float32),\n",
    "    \"OBS_LOW\": np.array([-np.pi, -np.pi, -8 * np.pi, -8 * np.pi], dtype=np.float32),\n",
    "    \"OBS_HIGH\": np.array(\n",
    "        [np.pi, np.pi, 8 * np.pi, 8 * np.pi], dtype=np.float32\n",
    "    ),\n",
    "    \"ACT_LOW\": -30,\n",
    "    \"ACT_HIGH\": 30,\n",
    "    \"TIME_STEP\": 0.01,\n",
    "    \"VIDEO_FPS\": 30,\n",
    "}\n"
   ]
  },
  {
   "cell_type": "code",
   "execution_count": null,
   "id": "impressed-specialist",
   "metadata": {},
   "outputs": [],
   "source": [
    "angles_file = \"/home/mans/git/human-body-model-dynamics/data/skeleton_angles.csv\""
   ]
  },
  {
   "cell_type": "code",
   "execution_count": null,
   "id": "later-subdivision",
   "metadata": {},
   "outputs": [],
   "source": [
    "env = LinkageEnv(angles_file, params, verbose=0)"
   ]
  },
  {
   "cell_type": "code",
   "execution_count": null,
   "id": "powerful-security",
   "metadata": {},
   "outputs": [],
   "source": [
    "agent = Agent(\n",
    "    lr_actor=0.000025,\n",
    "    lr_critic=0.00025,\n",
    "    input_dims=[8],\n",
    "    tau=0.001,\n",
    "    env=env,\n",
    "    batch_size=64,\n",
    "    layer1_size=400,\n",
    "    layer2_size=300,\n",
    "    n_actions=2,\n",
    ")"
   ]
  },
  {
   "cell_type": "code",
   "execution_count": null,
   "id": "raised-vulnerability",
   "metadata": {},
   "outputs": [],
   "source": [
    "np.random.seed(0)"
   ]
  },
  {
   "cell_type": "code",
   "execution_count": null,
   "id": "dedicated-jumping",
   "metadata": {},
   "outputs": [],
   "source": [
    "liveloss = PlotLosses()"
   ]
  },
  {
   "cell_type": "code",
   "execution_count": null,
   "id": "furnished-rwanda",
   "metadata": {},
   "outputs": [],
   "source": [
    "score_history = []"
   ]
  },
  {
   "cell_type": "code",
   "execution_count": null,
   "id": "varying-requirement",
   "metadata": {},
   "outputs": [],
   "source": [
    "for i in range(100000):\n",
    "    done = False\n",
    "    score = 0\n",
    "    obs = env.reset()\n",
    "    agent.noise.reset()\n",
    "    while not done:\n",
    "        env.render()\n",
    "        act = agent.choose_action(obs)\n",
    "        new_state, reward, done, info = env.step(act)\n",
    "        agent.remember(obs, act, reward, new_state, int(done))\n",
    "        agent.learn()\n",
    "        score += reward\n",
    "        obs = new_state\n",
    "\n",
    "    score_history.append(score)\n",
    "\n",
    "    metrics = {\"score_history\": np.mean(score_history[-100:])}\n",
    "    liveloss.update(metrics)\n",
    "    liveloss.send()\n",
    "    print(\n",
    "        \"episode\",\n",
    "        i,\n",
    "        \"score %.2f\" % score,\n",
    "        \"100 game average %.2f\" % np.mean(score_history[-100:]),\n",
    "    )\n",
    "env.close()"
   ]
  },
  {
   "cell_type": "code",
   "execution_count": null,
   "id": "focal-intellectual",
   "metadata": {},
   "outputs": [],
   "source": []
  },
  {
   "cell_type": "code",
   "execution_count": null,
   "id": "criminal-federal",
   "metadata": {},
   "outputs": [],
   "source": []
  }
 ],
 "metadata": {
  "kernelspec": {
   "display_name": "Python 3",
   "language": "python",
   "name": "python3"
  },
  "language_info": {
   "codemirror_mode": {
    "name": "ipython",
    "version": 3
   },
   "file_extension": ".py",
   "mimetype": "text/x-python",
   "name": "python",
   "nbconvert_exporter": "python",
   "pygments_lexer": "ipython3",
   "version": "3.7.6"
  }
 },
 "nbformat": 4,
 "nbformat_minor": 5
}
