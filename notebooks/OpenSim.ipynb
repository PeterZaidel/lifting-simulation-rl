{
 "cells": [
  {
   "cell_type": "code",
   "execution_count": 1,
   "id": "signed-economy",
   "metadata": {},
   "outputs": [],
   "source": [
    "import opensim as osim "
   ]
  },
  {
   "cell_type": "code",
   "execution_count": 2,
   "id": "romance-material",
   "metadata": {},
   "outputs": [],
   "source": [
    "model = osim.Model()\n",
    "model.setName(\"n_linkage\")\n",
    "model.setUseVisualizer(True)\n",
    "model.setGravity(osim.Vec3(0, -9.8065, 0));\n",
    "\n",
    "N_LINKS = 5"
   ]
  },
  {
   "cell_type": "code",
   "execution_count": null,
   "id": "italian-classic",
   "metadata": {},
   "outputs": [],
   "source": []
  },
  {
   "cell_type": "code",
   "execution_count": 3,
   "id": "pursuant-holmes",
   "metadata": {},
   "outputs": [],
   "source": [
    "links = []\n",
    "\n",
    "ground =  model.updGround()\n",
    "\n",
    "for i in range(N_LINKS):\n",
    "    link = osim.Body(f\"link_{i}\",\n",
    "                    1.0,\n",
    "                    osim.Vec3(0),\n",
    "                    osim.Inertia(0, 0, 0))\n",
    "    links.append(link)\n",
    "    model.addBody(link)"
   ]
  },
  {
   "cell_type": "code",
   "execution_count": 4,
   "id": "collect-explorer",
   "metadata": {},
   "outputs": [],
   "source": [
    "joints = []\n",
    "prev_link = ground\n",
    "for i in range(len(links)):\n",
    "    next_link = links[i]\n",
    "    joint = osim.PinJoint(f\"joint_{i}\",\n",
    "                         prev_link, # PhysicalFrame\n",
    "                         osim.Vec3(0),\n",
    "                         osim.Vec3(0),\n",
    "                         next_link, # PhysicalFrame\n",
    "                         osim.Vec3(0, 1, 0),\n",
    "                         osim.Vec3(0))\n",
    "    prev_link = links[i]\n",
    "    joints.append(joint)\n",
    "    model.addJoint(joint)\n",
    "    "
   ]
  },
  {
   "cell_type": "code",
   "execution_count": null,
   "id": "informative-partner",
   "metadata": {},
   "outputs": [],
   "source": []
  },
  {
   "cell_type": "code",
   "execution_count": 5,
   "id": "dying-template",
   "metadata": {},
   "outputs": [],
   "source": [
    "actuators = []\n",
    "prev_link = ground\n",
    "for i in range(len(links)):\n",
    "    next_link = links[i]\n",
    "    act = osim.TorqueActuator(\n",
    "        prev_link,\n",
    "        next_link,\n",
    "        osim.Vec3(0, 0, 1),\n",
    "    )\n",
    "    act.setOptimalForce(0.0)\n",
    "    actuators.append(act)\n",
    "    model.addForce(act)\n",
    "    "
   ]
  },
  {
   "cell_type": "code",
   "execution_count": 6,
   "id": "vocal-cornell",
   "metadata": {},
   "outputs": [],
   "source": [
    "brain = osim.PrescribedController()\n",
    "func = osim.Constant(1.0)\n",
    "for i in range(len(links)):\n",
    "    act = actuators[i]\n",
    "    brain.addActuator(act)\n",
    "    brain.prescribeControlForActuator(i, func)\n",
    "model.addController(brain)"
   ]
  },
  {
   "cell_type": "code",
   "execution_count": 7,
   "id": "protected-scotland",
   "metadata": {},
   "outputs": [],
   "source": [
    "bodyGeometry = osim.Ellipsoid(0.1, 0.5, 0.1)\n",
    "bodyGeometry.setColor(osim.Vec3(0.5)) # Gray\n",
    "\n",
    "link_frames = []\n",
    "\n",
    "for i in range(len(links)):\n",
    "    link = links[i]\n",
    "    \n",
    "    link_frame = osim.PhysicalOffsetFrame()\n",
    "    link_frame.setName(f\"linkCenter_{i}\")\n",
    "    link_frame.setParentFrame(link)\n",
    "    link_frame.setOffsetTransform(osim.Transform(osim.Vec3(0, 0.5, 0)))\n",
    "    link.addComponent(link_frame)\n",
    "    link_frame.attachGeometry(bodyGeometry.clone())\n",
    "    link_frames.append(link_frame)\n",
    "    "
   ]
  },
  {
   "cell_type": "code",
   "execution_count": 9,
   "id": "necessary-popularity",
   "metadata": {},
   "outputs": [],
   "source": [
    "contact_geom = osim.ContactHalfSpace(\n",
    "    osim.Vec3(0, 0, 0),\n",
    "    osim.Vec3(0, 0, -1.5707963267949),\n",
    "    ground,\n",
    "    \"platform\"\n",
    ")\n",
    "model.addContactGeometry(contact_geom)\n",
    "\n",
    "for i in range(len(links)):\n",
    "    link = links[i]\n",
    "    radius = 0.1\n",
    "    name = f\"contact_sphere_{i}\"\n",
    "    geometry = osim.ContactSphere(radius, osim.Vec3(0, 0, 0), link, name)\n",
    "    model.addContactGeometry(geometry)\n",
    "    \n",
    "    force = osim.HuntCrossleyForce()\n",
    "    force.setStiffness(1e10)\n",
    "    force.setDissipation(1)\n",
    "    force.setStaticFriction(0)\n",
    "    force.setDynamicFriction(0)\n",
    "    force.setViscousFriction(0)\n",
    "    force.addGeometry(contact_geom.getName())\n",
    "    force.addGeometry(geometry.getName())\n",
    "    model.addForce(force)\n",
    "    "
   ]
  },
  {
   "cell_type": "code",
   "execution_count": 31,
   "id": "vocational-muscle",
   "metadata": {},
   "outputs": [],
   "source": [
    "state = model.initSystem()"
   ]
  },
  {
   "cell_type": "code",
   "execution_count": 32,
   "id": "choice-factory",
   "metadata": {},
   "outputs": [
    {
     "name": "stdout",
     "output_type": "stream",
     "text": [
      "0.0\n",
      "0.0\n",
      "0.0\n",
      "0.0\n",
      "0.0\n"
     ]
    }
   ],
   "source": [
    "jointSet = model.getJointSet()\n",
    "for i in range(jointSet.getSize()):\n",
    "    joint = jointSet.get(i)\n",
    "    print(joint.getCoordinate().getValue(state))"
   ]
  },
  {
   "cell_type": "code",
   "execution_count": 33,
   "id": "adopted-hormone",
   "metadata": {},
   "outputs": [],
   "source": [
    "jointSet.get(0).getCoordinate().setValue(state, 160)"
   ]
  },
  {
   "cell_type": "code",
   "execution_count": 34,
   "id": "owned-fault",
   "metadata": {},
   "outputs": [],
   "source": [
    "# for i in range(jointSet.getSize()):\n",
    "#     jointSet.get(i).getCoordinate().setValue(state, 60)"
   ]
  },
  {
   "cell_type": "code",
   "execution_count": 35,
   "id": "young-relevance",
   "metadata": {},
   "outputs": [],
   "source": [
    "#state = model.initSystem()\n",
    "viz = model.updVisualizer().updSimbodyVisualizer()\n",
    "viz.setBackgroundColor(osim.Vec3(0)) # white\n",
    "viz.setGroundHeight(0)\n",
    "\n",
    "# ---------------------------------------------------------------------------\n",
    "# Simulate.\n",
    "# ---------------------------------------------------------------------------\n",
    "\n",
    "manager = osim.Manager(model)\n",
    "state.setTime(0)\n",
    "manager.initialize(state)\n",
    "state = manager.integrate(0.001)"
   ]
  },
  {
   "cell_type": "code",
   "execution_count": 18,
   "id": "pursuant-creator",
   "metadata": {},
   "outputs": [],
   "source": []
  },
  {
   "cell_type": "code",
   "execution_count": 37,
   "id": "vocational-treatment",
   "metadata": {},
   "outputs": [
    {
     "data": {
      "text/plain": [
       "{'joint_pos': {'joint_0': [159.9999989240988],\n",
       "  'joint_1': [1.0759054761896635e-06],\n",
       "  'joint_2': [-4.2890213495609216e-12],\n",
       "  'joint_3': [8.141635513917815e-22],\n",
       "  'joint_4': [-7.401486830834377e-23]},\n",
       " 'joint_vel': {'joint_0': [-0.002151810952437256],\n",
       "  'joint_1': [0.002151828108606885],\n",
       "  'joint_2': [-1.715619698690792e-08],\n",
       "  'joint_3': [2.7357819713339872e-14],\n",
       "  'joint_4': [-7.401486830834377e-20]},\n",
       " 'joint_acc': {'joint_0': [-2.1518452648974726],\n",
       "  'joint_1': [2.1518967336590644],\n",
       "  'joint_2': [-5.146892572982509e-05],\n",
       "  'joint_3': [1.641375924066324e-10],\n",
       "  'joint_4': [8.881784197001252e-16]}}"
      ]
     },
     "execution_count": 37,
     "metadata": {},
     "output_type": "execute_result"
    }
   ],
   "source": [
    "\n",
    "res = {}\n",
    "\n",
    "## Joints\n",
    "res[\"joint_pos\"] = {}\n",
    "res[\"joint_vel\"] = {}\n",
    "res[\"joint_acc\"] = {}\n",
    "jointSet = model.getJointSet()\n",
    "for i in range(jointSet.getSize()):\n",
    "    joint = jointSet.get(i)\n",
    "    name = joint.getName()\n",
    "    res[\"joint_pos\"][name] = [joint.get_coordinates(i).getValue(state) for i in range(joint.numCoordinates())]\n",
    "    res[\"joint_vel\"][name] = [joint.get_coordinates(i).getSpeedValue(state) for i in range(joint.numCoordinates())]\n",
    "    res[\"joint_acc\"][name] = [joint.get_coordinates(i).getAccelerationValue(state) for i in range(joint.numCoordinates())]\n",
    "res"
   ]
  },
  {
   "cell_type": "code",
   "execution_count": 36,
   "id": "offensive-optimum",
   "metadata": {},
   "outputs": [
    {
     "data": {
      "text/plain": [
       "True"
      ]
     },
     "execution_count": 36,
     "metadata": {},
     "output_type": "execute_result"
    }
   ],
   "source": [
    "model.printToXML('/mnt/data/Linux/VMs/VMs/Win10/shared/5-link.osim')"
   ]
  },
  {
   "cell_type": "code",
   "execution_count": 8,
   "id": "hearing-store",
   "metadata": {},
   "outputs": [],
   "source": [
    "# arm = osim.Model()\n",
    "# arm.setName(\"bicep_curl\")\n",
    "# arm.setUseVisualizer(True)\n",
    "\n",
    "# # ---------------------------------------------------------------------------\n",
    "# # Create two links, each with a mass of 1 kg, centre of mass at the body's\n",
    "# # origin, and moments and products of inertia of zero.\n",
    "# # ---------------------------------------------------------------------------\n",
    "\n",
    "# humerus = osim.Body(\"humerus\",\n",
    "#                     1.0,\n",
    "#                     osim.Vec3(0),\n",
    "#                     osim.Inertia(0, 0, 0))\n",
    "# radius = osim.Body(\"radius\",\n",
    "#                    1.0,\n",
    "#                    osim.Vec3(0),\n",
    "#                    osim.Inertia(0, 0, 0))\n",
    "\n",
    "# # ---------------------------------------------------------------------------\n",
    "# # Connect the bodies with pin joints. Assume each body is 1m long.\n",
    "# # ---------------------------------------------------------------------------\n",
    "\n",
    "# shoulder = osim.PinJoint(\"shoulder\",\n",
    "#                          arm.getGround(), # PhysicalFrame\n",
    "#                          osim.Vec3(0),\n",
    "#                          osim.Vec3(0),\n",
    "#                          humerus, # PhysicalFrame\n",
    "#                          osim.Vec3(0, 1, 0),\n",
    "#                          osim.Vec3(0))\n",
    "\n",
    "# elbow = osim.PinJoint(\"elbow\",\n",
    "#                       humerus, # PhysicalFrame\n",
    "#                       osim.Vec3(0),\n",
    "#                       osim.Vec3(0),\n",
    "#                       radius, # PhysicalFrame\n",
    "#                       osim.Vec3(0, 1, 0),\n",
    "#                       osim.Vec3(0))\n",
    "\n",
    "# # ---------------------------------------------------------------------------\n",
    "# # Add a muscle that flexes the elbow (actuator for robotics people).\n",
    "# # ---------------------------------------------------------------------------\n",
    "\n",
    "# biceps = osim.Millard2012EquilibriumMuscle(\"biceps\",  # Muscle name\n",
    "#                                            200.0,  # Max isometric force\n",
    "#                                            0.6,  # Optimal fibre length\n",
    "#                                            0.55,  # Tendon slack length\n",
    "#                                            0.0)  # Pennation angle\n",
    "# biceps.addNewPathPoint(\"origin\",\n",
    "#                        humerus,\n",
    "#                        osim.Vec3(0, 0.8, 0))\n",
    "\n",
    "# biceps.addNewPathPoint(\"insertion\",\n",
    "#                        radius,\n",
    "#                        osim.Vec3(0, 0.7, 0))\n",
    "\n",
    "# # ---------------------------------------------------------------------------\n",
    "# # Add a controller that specifies the excitation of the muscle.\n",
    "# # ---------------------------------------------------------------------------\n",
    "\n",
    "# brain = osim.PrescribedController()\n",
    "# brain.addActuator(biceps)\n",
    "# brain.prescribeControlForActuator(\"biceps\",\n",
    "#                                   osim.StepFunction(0.5, 3.0, 0.3, 1.0))\n",
    "\n",
    "# # ---------------------------------------------------------------------------\n",
    "# # Build model with components created above.\n",
    "# # ---------------------------------------------------------------------------\n",
    "\n",
    "# arm.addBody(humerus)\n",
    "# arm.addBody(radius)\n",
    "# arm.addJoint(shoulder) # Now required in OpenSim4.0\n",
    "# arm.addJoint(elbow)\n",
    "# arm.addForce(biceps)\n",
    "# arm.addController(brain)\n",
    "\n",
    "# # ---------------------------------------------------------------------------\n",
    "# # Add a console reporter to print the muscle fibre force and elbow angle.\n",
    "# # ---------------------------------------------------------------------------\n",
    "\n",
    "# # We want to write our simulation results to the console.\n",
    "# reporter = osim.ConsoleReporter()\n",
    "# reporter.set_report_time_interval(1.0)\n",
    "# reporter.addToReport(biceps.getOutput(\"fiber_force\"))\n",
    "# elbow_coord = elbow.getCoordinate().getOutput(\"value\")\n",
    "# reporter.addToReport(elbow_coord, \"elbow_angle\")\n",
    "# arm.addComponent(reporter)\n",
    "\n",
    "# # ---------------------------------------------------------------------------\n",
    "# # Add display geometry. \n",
    "# # ---------------------------------------------------------------------------\n",
    "\n",
    "# bodyGeometry = osim.Ellipsoid(0.1, 0.5, 0.1)\n",
    "# bodyGeometry.setColor(osim.Vec3(0.5)) # Gray\n",
    "# humerusCenter = osim.PhysicalOffsetFrame()\n",
    "# humerusCenter.setName(\"humerusCenter\")\n",
    "# humerusCenter.setParentFrame(humerus)\n",
    "# humerusCenter.setOffsetTransform(osim.Transform(osim.Vec3(0, 0.5, 0)))\n",
    "# humerus.addComponent(humerusCenter)\n",
    "# humerusCenter.attachGeometry(bodyGeometry.clone())\n",
    "\n",
    "# radiusCenter = osim.PhysicalOffsetFrame()\n",
    "# radiusCenter.setName(\"radiusCenter\")\n",
    "# radiusCenter.setParentFrame(radius)\n",
    "# radiusCenter.setOffsetTransform(osim.Transform(osim.Vec3(0, 0.5, 0)))\n",
    "# radius.addComponent(radiusCenter)\n",
    "# radiusCenter.attachGeometry(bodyGeometry.clone())\n",
    "\n",
    "# # ---------------------------------------------------------------------------\n",
    "# # Configure the model.\n",
    "# # ---------------------------------------------------------------------------\n",
    "\n",
    "# state = arm.initSystem()\n",
    "# # Fix the shoulder at its default angle and begin with the elbow flexed.\n",
    "# shoulder.getCoordinate().setLocked(state, True)\n",
    "# elbow.getCoordinate().setValue(state, 0.5 * osim.SimTK_PI)\n",
    "# arm.equilibrateMuscles(state)\n"
   ]
  },
  {
   "cell_type": "code",
   "execution_count": 5,
   "id": "parliamentary-coordinate",
   "metadata": {},
   "outputs": [],
   "source": [
    "\n",
    "# # ---------------------------------------------------------------------------\n",
    "# # Configure the visualizer.\n",
    "# # ---------------------------------------------------------------------------\n",
    "\n",
    "# viz = arm.updVisualizer().updSimbodyVisualizer()\n",
    "# viz.setBackgroundColor(osim.Vec3(0)) # white\n",
    "# viz.setGroundHeight(-2)\n",
    "\n",
    "# # ---------------------------------------------------------------------------\n",
    "# # Simulate.\n",
    "# # ---------------------------------------------------------------------------\n",
    "\n",
    "# manager = osim.Manager(arm)\n",
    "# state.setTime(0)\n",
    "# manager.initialize(state)\n",
    "# state = manager.integrate(10.0)"
   ]
  }
 ],
 "metadata": {
  "kernelspec": {
   "display_name": "rl_env",
   "language": "python",
   "name": "rl_env"
  },
  "language_info": {
   "codemirror_mode": {
    "name": "ipython",
    "version": 3
   },
   "file_extension": ".py",
   "mimetype": "text/x-python",
   "name": "python",
   "nbconvert_exporter": "python",
   "pygments_lexer": "ipython3",
   "version": "3.7.10"
  }
 },
 "nbformat": 4,
 "nbformat_minor": 5
}
