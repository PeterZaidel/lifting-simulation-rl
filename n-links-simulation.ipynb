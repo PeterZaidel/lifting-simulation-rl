{
 "cells": [
  {
   "cell_type": "code",
   "execution_count": 1,
   "metadata": {},
   "outputs": [],
   "source": [
    "from sympy import symbols, cos\n",
    "from sympy.physics.mechanics import *\n",
    "init_vprinting(use_latex='mathjax', pretty_print=True)\n",
    "from IPython.display import display"
   ]
  },
  {
   "cell_type": "code",
   "execution_count": 2,
   "metadata": {},
   "outputs": [],
   "source": [
    "n = 5"
   ]
  },
  {
   "cell_type": "code",
   "execution_count": 3,
   "metadata": {},
   "outputs": [],
   "source": [
    "q = dynamicsymbols('q:' + str(n))  # Generalized coordinates\n",
    "u = dynamicsymbols('u:' + str(n))  # Generalized speeds\n",
    "f = dynamicsymbols('f:' + str(n))                # Force applied to the cart\n",
    "w = dynamicsymbols('q:' + str(n), 1)\n",
    "m = symbols('m:' + str(n))         # Mass of each bob\n",
    "l = symbols('l:' + str(n))             # Length of each link\n",
    "g, t = symbols('g t')                  "
   ]
  },
  {
   "cell_type": "code",
   "execution_count": 4,
   "metadata": {},
   "outputs": [],
   "source": [
    "I = ReferenceFrame('I')  \n",
    "P0 = Point('P0')                    # Hinge point of top link   \n",
    "P0.set_vel(I, 0)                    # Set the velocity of P0"
   ]
  },
  {
   "cell_type": "code",
   "execution_count": 5,
   "metadata": {},
   "outputs": [],
   "source": [
    "RF0 = I.orientnew('RF0', 'Axis', [q[0], I.z])\n",
    "RF0.set_ang_vel(I, u[0] * I.z)\n",
    "Pcm0 = P0.locatenew('Pcm0', l[0]/2 * RF0.x)\n",
    "Pcm0.v2pt_theory(P0, I, RF0)\n",
    "Pa0 = Particle('Pa0', Pcm0, m[0])\n",
    "I0 = inertia(RF0, m[0] * l[0] * l[0] / 3,  m[0] * l[0] * l[0] / 3 ,m[0] * l[0] * l[0] / 3)\n",
    "RB0 = RigidBody('RB0', Pcm0, RF0, m[0], (I0, P0))\n",
    "\n",
    "RF1 = I.orientnew('RF1', 'Axis', [q[1], I.z])\n",
    "RF1.set_ang_vel(I, (u[1] + u[0]) * I.z)\n",
    "P1 = P0.locatenew('P1', l[0] * RF0.x)\n",
    "Pcm1 = P1.locatenew('Pcm1', l[1]/2 * RF1.x)\n",
    "Pcm1.v2pt_theory(P1, I, RF1)\n",
    "Pa1 = Particle('Pa1', Pcm1, m[1])\n",
    "I1 = inertia(RF1, m[1] * l[1] * l[1] / 3,  m[1] * l[1] * l[1] / 3 ,m[1] * l[1] * l[1] / 3)\n",
    "RB1 = RigidBody('RB1', Pcm1, RF1, m[1], (I1, P1))\n",
    "\n",
    "RF2 = I.orientnew('RF2', 'Axis', [q[2], I.z])\n",
    "RF2.set_ang_vel(I, (u[2] + u[1] + u[0]) * I.z)\n",
    "P2 = P1.locatenew('P2', l[1] * RF1.x)\n",
    "Pcm2 = P2.locatenew('Pcm2', l[2]/2 * RF2.x)\n",
    "Pcm2.v2pt_theory(P2, I, RF2)\n",
    "Pa2 = Particle('Pa2', Pcm2, m[2])\n",
    "I2 = inertia(RF2, m[2] * l[2] * l[2] / 3,  m[2] * l[2] * l[2] / 3 ,m[2] * l[2] * l[2] / 3)\n",
    "RB2 = RigidBody('RB2', Pcm2, RF2, m[2], (I2, P2))\n",
    "\n",
    "RF3 = I.orientnew('RF3', 'Axis', [q[3], I.z])\n",
    "RF3.set_ang_vel(I, (u[3]+ u[2] + u[1] + u[0]) * I.z)\n",
    "P3 = P2.locatenew('P3', l[2] * RF2.x)\n",
    "Pcm3 = P3.locatenew('Pcm3', l[3]/2 * RF3.x)\n",
    "Pcm3.v2pt_theory(P3, I, RF3)\n",
    "Pa3 = Particle('Pa3', Pcm3, m[3])\n",
    "I3 = inertia(RF3, m[3] * l[3] * l[3] / 3,  m[3] * l[3] * l[3] / 3 ,m[3] * l[3] * l[3] / 3)\n",
    "RB3 = RigidBody('RB3', Pcm3, RF3, m[3], (I3, P3))\n",
    "\n",
    "RF4 = I.orientnew('RF4', 'Axis', [q[4], I.z])\n",
    "RF4.set_ang_vel(I, (u[4] + u[3] + u[2] + u[1] + u[0]) * I.z)\n",
    "P4 = P3.locatenew('P4', l[3] * RF3.x)\n",
    "Pcm4 = P4.locatenew('Pcm4', l[4]/2 * RF4.x)\n",
    "Pcm4.v2pt_theory(P4, I, RF4)\n",
    "Pa4 = Particle('Pa4', Pcm4, m[4])\n",
    "I4 = inertia(RF4, m[4] * l[4] * l[4] / 3,  m[4] * l[4] * l[4] / 3 ,m[4] * l[4] * l[4] / 3)\n",
    "RB4 = RigidBody('RB4', Pcm4, RF4, m[4], (I4, P4))\n",
    "\n",
    "# frames = [I, RF0, RF1]\n",
    "# points = [Pcm0, Pcm1]\n",
    "# particles = [RB0, RB1]\n",
    "\n",
    "# forces = [(Pcm0, - m[0]*g*I.y), (RF0, f[0]*l[0]/2*RF0.z), (Pcm1, - m[1]*g*I.y), (RF1, f[1]*l[1]/2*RF1.z)]\n",
    "# kindiffs = [w[0] - u[0], w[1] - u[1]]\n",
    "\n",
    "frames = [I, RF0, RF1, RF2, RF3, RF4]\n",
    "points = [Pcm0, Pcm1, Pcm2, Pcm3, Pcm4]\n",
    "particles = [RB0, RB1, RB2, RB3, RB4]\n",
    "forces = [(Pcm0, - m[0]*g*I.y), (RF0, f[0]*cos(q[0])*l[0]/2*RF0.z),\n",
    "          (Pcm4, - m[3]*g*I.y), (RF4, f[4]*cos(q[4])*l[4]/2*RF4.z)]\n",
    "kindiffs = [q[0].diff(t) - u[0], q[1].diff(t) - u[1],\n",
    "            q[2].diff(t) - u[2], q[3].diff(t) - u[3],\n",
    "            q[4].diff(t) - u[4]]"
   ]
  },
  {
   "cell_type": "code",
   "execution_count": 6,
   "metadata": {},
   "outputs": [],
   "source": [
    "kane = KanesMethod(I, q_ind=q, u_ind=u, kd_eqs=kindiffs) # Initialize the object\n",
    "fr, frstar = kane.kanes_equations(particles, loads=forces)\n",
    "# frstar.simplify()\n",
    "# fr.simplify()"
   ]
  },
  {
   "cell_type": "code",
   "execution_count": 7,
   "metadata": {},
   "outputs": [],
   "source": [
    "from sympy import Dummy, lambdify\n",
    "from numpy import array, hstack, zeros, linspace, pi, ones\n",
    "from numpy.linalg import solve\n",
    "from scipy.integrate import odeint"
   ]
  },
  {
   "cell_type": "code",
   "execution_count": 8,
   "metadata": {},
   "outputs": [],
   "source": [
    "bob_mass = 1                         # The maximum mass of the bobs is 10 grams\n",
    "parameters = [g]                       # Parameter definitions starting with gravity and the first bob\n",
    "parameter_vals = [9.81, 0.4, 1, 0.4, 1, 0.6, 1, 0.4, 1, 0.4, 1]            # Numerical values for the first two\n",
    "for i in range(n):                           # Then each mass and length\n",
    "    parameters += [l[i], m[i]]"
   ]
  },
  {
   "cell_type": "code",
   "execution_count": 9,
   "metadata": {},
   "outputs": [],
   "source": [
    "import numba\n",
    "dynamic = q + u + f                                             # Add the input force\n",
    "dummy_symbols = [Dummy() for i in dynamic]                     # Create a dummy symbol for each variable\n",
    "dummy_dict = dict(zip(dynamic, dummy_symbols))\n",
    "kindiff_dict = kane.kindiffdict()                              # Get the solved kinematical differential equations\n",
    "M = kane.mass_matrix_full.subs(kindiff_dict).subs(dummy_dict)  # Substitute into the mass matrix \n",
    "F = kane.forcing_full.subs(kindiff_dict).subs(dummy_dict)      # Substitute into the forcing vector\n",
    "# M.simplify()\n",
    "# F.simplify()\n",
    "M_func = lambdify(dummy_symbols + parameters, M)               # Create a callable function to evaluate the mass matrix \n",
    "F_func = lambdify(dummy_symbols + parameters, F)               # Create a callable function to evaluate the forcing vector"
   ]
  },
  {
   "cell_type": "code",
   "execution_count": 10,
   "metadata": {},
   "outputs": [],
   "source": [
    "def right_hand_side(x, t, args):\n",
    "    \"\"\"Returns the derivatives of the states.\n",
    "\n",
    "    Parameters\n",
    "    ----------\n",
    "    x : ndarray, shape(2 * (n + 1))\n",
    "        The current state vector.\n",
    "    t : float\n",
    "        The current time.\n",
    "    args : ndarray\n",
    "        The constants.\n",
    "\n",
    "    Returns\n",
    "    -------\n",
    "    dx : ndarray, shape(2 * (n + 1))\n",
    "        The derivative of the state.\n",
    "    \n",
    "    \"\"\"\n",
    "    u = [2,0,0,0,0]\n",
    "    arguments = hstack((x, u, args))     # States, input, and parameters\n",
    "    dx = array(solve(M_func(*arguments), # Solving for the derivatives\n",
    "        F_func(*arguments))).T[0]\n",
    "    return dx"
   ]
  },
  {
   "cell_type": "code",
   "execution_count": 11,
   "metadata": {},
   "outputs": [],
   "source": [
    "import time\n",
    "from numba import jit"
   ]
  },
  {
   "cell_type": "code",
   "execution_count": 12,
   "metadata": {},
   "outputs": [
    {
     "data": {
      "text/latex": [
       "$\\displaystyle 6.55615496635437$"
      ],
      "text/plain": [
       "6.55615496635437"
      ]
     },
     "execution_count": 12,
     "metadata": {},
     "output_type": "execute_result"
    }
   ],
   "source": [
    "start = time.time()\n",
    "x0 = hstack(([pi/2, pi/2, pi/2, -pi/4, pi/4], [0, 0, 0, 0, 0])) # Initial conditions, q and u\n",
    "t = linspace(0, 3, 90)                 # Time vector\n",
    "y = odeint(right_hand_side, x0, t, args=(parameter_vals,))\n",
    "end = time.time()\n",
    "end - start"
   ]
  },
  {
   "cell_type": "code",
   "execution_count": 13,
   "metadata": {},
   "outputs": [],
   "source": [
    "from numpy import zeros, cos, sin, arange, around\n",
    "from matplotlib import pyplot as plt\n",
    "from matplotlib import animation\n",
    "from matplotlib.patches import Rectangle, Circle"
   ]
  },
  {
   "cell_type": "code",
   "execution_count": 14,
   "metadata": {},
   "outputs": [],
   "source": [
    "def animate_pendulum(t, states, lengths, filename=None):\n",
    "    \"\"\"Animates the n-pendulum and optionally saves it to file.\n",
    "\n",
    "    Parameters\n",
    "    ----------\n",
    "    t : ndarray, shape(m)\n",
    "        Time array.\n",
    "    states: ndarray, shape(m,p)\n",
    "        State time history.\n",
    "    length: float\n",
    "        The length of the pendulum links.\n",
    "    filename: string or None, optional\n",
    "        If true a movie file will be saved of the animation. This may take some time.\n",
    "\n",
    "    Returns\n",
    "    -------\n",
    "    fig : matplotlib.Figure\n",
    "        The figure.\n",
    "    anim : matplotlib.FuncAnimation\n",
    "        The animation.\n",
    "\n",
    "    \"\"\"\n",
    "    # the number of pendulum bobs\n",
    "    numpoints = int(states.shape[1] / 2 + 1)\n",
    "    # first set up the figure, the axis, and the plot elements we want to animate\n",
    "    fig = plt.figure()\n",
    "\n",
    "    # set the limits based on the motion\n",
    "    xmin = around(states[:, 0].min(), 1)\n",
    "    xmax = around(states[:, 0].max(), 1)\n",
    "\n",
    "    # create the axes\n",
    "    ax = plt.axes(xlim=(-0.5, 1), ylim=(-0.1, 2), aspect='equal')\n",
    "\n",
    "    # display the current time\n",
    "    time_text = ax.text(0.04, 0.9, '', transform=ax.transAxes)\n",
    "\n",
    "    # blank line for the pendulum\n",
    "    line, = ax.plot([], [], lw=2, marker='o', markersize=3, color='red')\n",
    "    line_head,= ax.plot([], [], lw=2, marker=None, color='red')\n",
    "\n",
    "    rect = Rectangle([-0.025,-0.25],\n",
    "        0.15, 0.05, fill=True, color='red', ec='red')\n",
    "    ax.add_patch(rect)\n",
    "    circle = Circle((0.0, 1.6), radius=0.1, color='red')\n",
    "    ax.add_patch(circle)\n",
    "    # initialization function: plot the background of each frame\n",
    "    def init():\n",
    "        time_text.set_text('')\n",
    "        line.set_data([], [])\n",
    "        line_head.set_data([], [])\n",
    "        rect.set_xy((-0.025, -0.025))\n",
    "        circle.center = (0, 1.6)\n",
    "        return time_text, line, line_head, rect, circle\n",
    "    # animation function: update the objects\n",
    "    \n",
    "    def animate(i):\n",
    "        time_text.set_text('t = {:2.2f}'.format(t[i]))\n",
    "        x = [0]\n",
    "        y = [0]\n",
    "        for j in arange(1, numpoints):\n",
    "            x.append(x[j-1] + lengths[j-1]* cos(states[i, j-1]))\n",
    "            y.append(y[j-1] + lengths[j-1] * sin(states[i, j-1]))         \n",
    "        \n",
    "        x_head = [x[3], x[3] + 0.25*cos(states[i, 2])]\n",
    "        y_head = [y[3], y[3] + 0.25*sin(states[i, 2])]\n",
    "        circle.center = (x[3] + 0.25*cos(states[i, 2]),y[3] + 0.25*sin(states[i, 2]))\n",
    "        line.set_data(x, y)\n",
    "        line_head.set_data(x_head, y_head)\n",
    "        return time_text, line, line_head, rect, circle\n",
    "\n",
    "    # call the animator function\n",
    "    anim = animation.FuncAnimation(fig, animate, frames=len(t), init_func=init,\n",
    "            interval=t[-1] / len(t) * 1000, blit=True, repeat=False)\n",
    "\n",
    "    # save the animation if a filename is given\n",
    "    if filename is not None:\n",
    "        anim.save(filename, fps=30, codec='libx264')"
   ]
  },
  {
   "cell_type": "code",
   "execution_count": 15,
   "metadata": {},
   "outputs": [
    {
     "data": {
      "image/png": "[encoded data removed]",
      "text/plain": [
       "<Figure size 432x288 with 1 Axes>"
      ]
     },
     "metadata": {
      "needs_background": "light"
     },
     "output_type": "display_data"
    }
   ],
   "source": [
    "animate_pendulum(t, y, [0.4, 0.4, 0.6, 0.4, 0.4], filename=\"/home/mans/Documents/open-loop.avi\")\n",
    "#animate_pendulum(t, y, arm_length, filename=\"/home/mans/Documents/open-loop.mp4\")"
   ]
  },
  {
   "cell_type": "code",
   "execution_count": 16,
   "metadata": {},
   "outputs": [
    {
     "data": {
      "text/html": [
       "\n",
       "<video width=\"640\" height=\"640\" controls loop autoplay>\n",
       "  <source src=\"/home/mans/Documents/open-loop.mp4\" type=\"video/mp4\">\n",
       "</video>\n"
      ],
      "text/plain": [
       "<IPython.core.display.HTML object>"
      ]
     },
     "execution_count": 16,
     "metadata": {},
     "output_type": "execute_result"
    }
   ],
   "source": [
    "from IPython.display import HTML, Video\n",
    "\n",
    "HTML(\"\"\"\n",
    "<video width=\"640\" height=\"640\" controls loop autoplay>\n",
    "  <source src=\"/home/mans/Documents/open-loop.mp4\" type=\"video/mp4\">\n",
    "</video>\n",
    "\"\"\")"
   ]
  },
  {
   "cell_type": "code",
   "execution_count": 17,
   "metadata": {},
   "outputs": [],
   "source": [
    "frstar.simplify()"
   ]
  },
  {
   "cell_type": "code",
   "execution_count": 18,
   "metadata": {},
   "outputs": [],
   "source": [
    "fr.simplify()"
   ]
  },
  {
   "cell_type": "code",
   "execution_count": 19,
   "metadata": {},
   "outputs": [],
   "source": [
    "dynamic = q + u + f                                             # Add the input force\n",
    "dummy_symbols = [Dummy() for i in dynamic]                     # Create a dummy symbol for each variable\n",
    "dummy_dict = dict(zip(dynamic, dummy_symbols))\n",
    "kindiff_dict = kane.kindiffdict()                              # Get the solved kinematical differential equations\n",
    "M = kane.mass_matrix_full.subs(kindiff_dict).subs(dummy_dict)  # Substitute into the mass matrix \n",
    "F = kane.forcing_full.subs(kindiff_dict).subs(dummy_dict)"
   ]
  },
  {
   "cell_type": "code",
   "execution_count": 20,
   "metadata": {},
   "outputs": [],
   "source": [
    "M.simplify()"
   ]
  },
  {
   "cell_type": "code",
   "execution_count": 21,
   "metadata": {},
   "outputs": [],
   "source": [
    "F.simplify()"
   ]
  },
  {
   "cell_type": "code",
   "execution_count": 22,
   "metadata": {},
   "outputs": [],
   "source": [
    "M_func = lambdify(dummy_symbols + parameters, M)               # Create a callable function to evaluate the mass matrix \n",
    "F_func = lambdify(dummy_symbols + parameters, F)               # Create a callable function to evaluate the forcing vector"
   ]
  },
  {
   "cell_type": "code",
   "execution_count": 23,
   "metadata": {},
   "outputs": [],
   "source": [
    "\n",
    "def right_hand_side(x, t, args):\n",
    "    \"\"\"Returns the derivatives of the states.\n",
    "\n",
    "    Parameters\n",
    "    ----------\n",
    "    x : ndarray, shape(2 * (n + 1))\n",
    "        The current state vector.\n",
    "    t : float\n",
    "        The current time.\n",
    "    args : ndarray\n",
    "        The constants.\n",
    "\n",
    "    Returns\n",
    "    -------\n",
    "    dx : ndarray, shape(2 * (n + 1))\n",
    "        The derivative of the state.\n",
    "    \n",
    "    \"\"\"\n",
    "    u = [2,0,0,0,0]\n",
    "    arguments = hstack((x, u, args))     # States, input, and parameters\n",
    "    dx = array(solve(M_func(*arguments), # Solving for the derivatives\n",
    "        F_func(*arguments))).T[0]\n",
    "    return dx"
   ]
  },
  {
   "cell_type": "code",
   "execution_count": 24,
   "metadata": {},
   "outputs": [
    {
     "ename": "TypeError",
     "evalue": "The decorated object is not a function (got type <class 'numpy.ndarray'>).",
     "output_type": "error",
     "traceback": [
      "\u001b[0;31m---------------------------------------------------------------------------\u001b[0m",
      "\u001b[0;31mTypeError\u001b[0m                                 Traceback (most recent call last)",
      "\u001b[0;32m<ipython-input-24-f37b404977c0>\u001b[0m in \u001b[0;36m<module>\u001b[0;34m\u001b[0m\n\u001b[1;32m      3\u001b[0m \u001b[0mx0\u001b[0m \u001b[0;34m=\u001b[0m \u001b[0mhstack\u001b[0m\u001b[0;34m(\u001b[0m\u001b[0;34m(\u001b[0m\u001b[0;34m[\u001b[0m\u001b[0mpi\u001b[0m\u001b[0;34m/\u001b[0m\u001b[0;36m2\u001b[0m\u001b[0;34m,\u001b[0m \u001b[0mpi\u001b[0m\u001b[0;34m/\u001b[0m\u001b[0;36m2\u001b[0m\u001b[0;34m,\u001b[0m \u001b[0mpi\u001b[0m\u001b[0;34m/\u001b[0m\u001b[0;36m2\u001b[0m\u001b[0;34m,\u001b[0m \u001b[0;34m-\u001b[0m\u001b[0mpi\u001b[0m\u001b[0;34m/\u001b[0m\u001b[0;36m4\u001b[0m\u001b[0;34m,\u001b[0m \u001b[0mpi\u001b[0m\u001b[0;34m/\u001b[0m\u001b[0;36m4\u001b[0m\u001b[0;34m]\u001b[0m\u001b[0;34m,\u001b[0m \u001b[0;34m[\u001b[0m\u001b[0;36m0\u001b[0m\u001b[0;34m,\u001b[0m \u001b[0;36m0\u001b[0m\u001b[0;34m,\u001b[0m \u001b[0;36m0\u001b[0m\u001b[0;34m,\u001b[0m \u001b[0;36m0\u001b[0m\u001b[0;34m,\u001b[0m \u001b[0;36m0\u001b[0m\u001b[0;34m]\u001b[0m\u001b[0;34m)\u001b[0m\u001b[0;34m)\u001b[0m \u001b[0;31m# Initial conditions, q and u\u001b[0m\u001b[0;34m\u001b[0m\u001b[0;34m\u001b[0m\u001b[0m\n\u001b[1;32m      4\u001b[0m \u001b[0mt\u001b[0m \u001b[0;34m=\u001b[0m \u001b[0mlinspace\u001b[0m\u001b[0;34m(\u001b[0m\u001b[0;36m0\u001b[0m\u001b[0;34m,\u001b[0m \u001b[0;36m5\u001b[0m\u001b[0;34m,\u001b[0m \u001b[0;36m150\u001b[0m\u001b[0;34m)\u001b[0m                 \u001b[0;31m# Time vector\u001b[0m\u001b[0;34m\u001b[0m\u001b[0;34m\u001b[0m\u001b[0m\n\u001b[0;32m----> 5\u001b[0;31m \u001b[0my\u001b[0m \u001b[0;34m=\u001b[0m \u001b[0mnumba\u001b[0m\u001b[0;34m.\u001b[0m\u001b[0mjit\u001b[0m\u001b[0;34m(\u001b[0m\u001b[0modeint\u001b[0m\u001b[0;34m(\u001b[0m\u001b[0mright_hand_side\u001b[0m\u001b[0;34m,\u001b[0m \u001b[0mx0\u001b[0m\u001b[0;34m,\u001b[0m \u001b[0mt\u001b[0m\u001b[0;34m,\u001b[0m \u001b[0margs\u001b[0m\u001b[0;34m=\u001b[0m\u001b[0;34m(\u001b[0m\u001b[0mparameter_vals\u001b[0m\u001b[0;34m,\u001b[0m\u001b[0;34m)\u001b[0m\u001b[0;34m)\u001b[0m\u001b[0;34m)\u001b[0m\u001b[0;34m\u001b[0m\u001b[0;34m\u001b[0m\u001b[0m\n\u001b[0m\u001b[1;32m      6\u001b[0m \u001b[0mend\u001b[0m \u001b[0;34m=\u001b[0m \u001b[0mtime\u001b[0m\u001b[0;34m.\u001b[0m\u001b[0mtime\u001b[0m\u001b[0;34m(\u001b[0m\u001b[0;34m)\u001b[0m\u001b[0;34m\u001b[0m\u001b[0;34m\u001b[0m\u001b[0m\n\u001b[1;32m      7\u001b[0m \u001b[0mend\u001b[0m \u001b[0;34m-\u001b[0m \u001b[0mstart\u001b[0m\u001b[0;34m\u001b[0m\u001b[0;34m\u001b[0m\u001b[0m\n",
      "\u001b[0;32m~/.pyenv/versions/3.7.6/envs/dynamics/lib/python3.7/site-packages/numba/core/decorators.py\u001b[0m in \u001b[0;36mjit\u001b[0;34m(signature_or_function, locals, cache, pipeline_class, boundscheck, **options)\u001b[0m\n\u001b[1;32m    181\u001b[0m                    targetoptions=options, **dispatcher_args)\n\u001b[1;32m    182\u001b[0m     \u001b[0;32mif\u001b[0m \u001b[0mpyfunc\u001b[0m \u001b[0;32mis\u001b[0m \u001b[0;32mnot\u001b[0m \u001b[0;32mNone\u001b[0m\u001b[0;34m:\u001b[0m\u001b[0;34m\u001b[0m\u001b[0;34m\u001b[0m\u001b[0m\n\u001b[0;32m--> 183\u001b[0;31m         \u001b[0;32mreturn\u001b[0m \u001b[0mwrapper\u001b[0m\u001b[0;34m(\u001b[0m\u001b[0mpyfunc\u001b[0m\u001b[0;34m)\u001b[0m\u001b[0;34m\u001b[0m\u001b[0;34m\u001b[0m\u001b[0m\n\u001b[0m\u001b[1;32m    184\u001b[0m     \u001b[0;32melse\u001b[0m\u001b[0;34m:\u001b[0m\u001b[0;34m\u001b[0m\u001b[0;34m\u001b[0m\u001b[0m\n\u001b[1;32m    185\u001b[0m         \u001b[0;32mreturn\u001b[0m \u001b[0mwrapper\u001b[0m\u001b[0;34m\u001b[0m\u001b[0;34m\u001b[0m\u001b[0m\n",
      "\u001b[0;32m~/.pyenv/versions/3.7.6/envs/dynamics/lib/python3.7/site-packages/numba/core/decorators.py\u001b[0m in \u001b[0;36mwrapper\u001b[0;34m(func)\u001b[0m\n\u001b[1;32m    199\u001b[0m         \u001b[0;32mif\u001b[0m \u001b[0;32mnot\u001b[0m \u001b[0minspect\u001b[0m\u001b[0;34m.\u001b[0m\u001b[0misfunction\u001b[0m\u001b[0;34m(\u001b[0m\u001b[0mfunc\u001b[0m\u001b[0;34m)\u001b[0m\u001b[0;34m:\u001b[0m\u001b[0;34m\u001b[0m\u001b[0;34m\u001b[0m\u001b[0m\n\u001b[1;32m    200\u001b[0m             raise TypeError(\n\u001b[0;32m--> 201\u001b[0;31m                 \u001b[0;34m\"The decorated object is not a function (got type \"\u001b[0m\u001b[0;34m\u001b[0m\u001b[0;34m\u001b[0m\u001b[0m\n\u001b[0m\u001b[1;32m    202\u001b[0m                 \u001b[0;34mf\"{type(func)}).\"\u001b[0m\u001b[0;34m\u001b[0m\u001b[0;34m\u001b[0m\u001b[0m\n\u001b[1;32m    203\u001b[0m             )\n",
      "\u001b[0;31mTypeError\u001b[0m: The decorated object is not a function (got type <class 'numpy.ndarray'>)."
     ]
    }
   ],
   "source": [
    "import time\n",
    "start = time.time()\n",
    "x0 = hstack(([pi/2, pi/2, pi/2, -pi/4, pi/4], [0, 0, 0, 0, 0])) # Initial conditions, q and u\n",
    "t = linspace(0, 5, 150)                 # Time vector\n",
    "y = numba.jit(odeint(right_hand_side, x0, t, args=(parameter_vals,)))\n",
    "end = time.time()\n",
    "end - start"
   ]
  },
  {
   "cell_type": "code",
   "execution_count": null,
   "metadata": {},
   "outputs": [],
   "source": []
  }
 ],
 "metadata": {
  "kernelspec": {
   "display_name": "Python 3",
   "language": "python",
   "name": "python3"
  },
  "language_info": {
   "codemirror_mode": {
    "name": "ipython",
    "version": 3
   },
   "file_extension": ".py",
   "mimetype": "text/x-python",
   "name": "python",
   "nbconvert_exporter": "python",
   "pygments_lexer": "ipython3",
   "version": "3.7.6"
  }
 },
 "nbformat": 4,
 "nbformat_minor": 4
}
